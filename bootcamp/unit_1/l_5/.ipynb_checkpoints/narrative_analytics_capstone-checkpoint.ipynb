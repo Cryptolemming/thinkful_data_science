{
 "cells": [
  {
   "cell_type": "code",
   "execution_count": 267,
   "metadata": {},
   "outputs": [],
   "source": [
    "%matplotlib inline\n",
    "import pandas as pd\n",
    "import numpy as np\n",
    "import seaborn as sns\n",
    "from matplotlib import pyplot as plt\n",
    "from scipy import stats\n",
    "import statsmodels.stats as sm\n",
    "pd.set_option('display.max_rows', 500)"
   ]
  },
  {
   "cell_type": "code",
   "execution_count": 310,
   "metadata": {
    "collapsed": true
   },
   "outputs": [
    {
     "name": "stdout",
     "output_type": "stream",
     "text": [
      "\tAre Hurricanes becoming more frequent in occurrence and stronger over time ? A preliminary examination of data provided through Kaggle suggests Hurricane behavior has changed over the last one hundred and seventy years.  However we are not provided some important data for that research. \n",
      "\n",
      "\tClimate change has been shown to be impacting characteristics and behavior of tropical storms and weather patterns.  There exists a likelihood that storms will grow stronger over time, requiring the need for new Hurricane classifications.  Category 5 Hurricanes are represented by winds in excess of 252 km/h.  At these speeds, many man-made structures close to the shoreline can  be flattened.  If storms begin to consistently achieve speeds markedly greater than the 252 km/h Category 5 threshold, Category 6 classification is a possibility. \n",
      "\n",
      "\tKaggle makes available data about Atlantic and Pacific storms going back to 1851.  Atlantic data is exhuastive, Pacific data begins in 1949.  Further, storm strength is limited to maximum wind readings.  No data is provided for hurricane impact.  Initially our goal will be to obtain more exhaustive storm data, focusing on hurricane level storms.  Our goal would be to assess the  change in frequency of hurricanes across both the Atlantic and the Pacific, with further analysis into any changes in hurricane strength and impact.  Namely, are hurricanes becoming more frequent over time, and are they becoing stronger?\n",
      "\n",
      "    \n",
      "\n"
     ]
    }
   ],
   "source": [
    "print('\\tAre Hurricanes becoming more frequent in occurrence and stronger over time ? A preliminary examination of data provided through', \n",
    "    'Kaggle suggests Hurricane behavior has changed over the last one hundred and seventy years.  However we are not provided some important',\n",
    "    'data for that research.',  \n",
    "        '\\n\\n\\tClimate change has been shown to be impacting characteristics and behavior of tropical storms and weather patterns.  There',\n",
    "    'exists a likelihood that storms will grow stronger over time, requiring the need for new Hurricane classifications.  Category 5',\n",
    "    'Hurricanes are represented by winds in excess of 252 km/h.  At these speeds, many man-made structures close to the shoreline can ',\n",
    "    'be flattened.  If storms begin to consistently achieve speeds markedly greater than the 252 km/h Category 5 threshold, Category 6',\n",
    "    'classification is a possibility.',\n",
    "        '\\n\\n\\tKaggle makes available data about Atlantic and Pacific storms going back to 1851.  Atlantic data is exhuastive, Pacific data',\n",
    "    'begins in 1949.  Further, storm strength is limited to maximum wind readings.  No data is provided for hurricane impact.  Initially',\n",
    "    'our goal will be to obtain more exhaustive storm data, focusing on hurricane level storms.  Our goal would be to assess the ',\n",
    "    'change in frequency of hurricanes across both the Atlantic and the Pacific, with further analysis into any changes in hurricane',\n",
    "    'strength and impact.  Namely, are hurricanes occurring more frequently over time, and are they becoming stronger?')"
   ]
  },
  {
   "cell_type": "code",
   "execution_count": 300,
   "metadata": {},
   "outputs": [],
   "source": [
    "# import\n",
    "atlantic=pd.read_csv('../../../prep_course/atlantic.csv', usecols=['ID', 'Date', 'Status', 'Maximum Wind'])\n",
    "pacific=pd.read_csv('../../../prep_course/pacific.csv', usecols=['ID', 'Date', 'Status', 'Maximum Wind'])"
   ]
  },
  {
   "cell_type": "code",
   "execution_count": null,
   "metadata": {},
   "outputs": [],
   "source": [
    "print('Our hypotheses would look like the following: ', \n",
    "     '\\n\\tn1: hurricanes becoming more frequent over time - significant difference in hurricane frequency between time periods 1851-1987 and 1988-2015',\n",
    "     '\\n\\tn0: no significant difference in hurricane frequencies betwen the time periods',\n",
    "     '\\n\\nBreaking apart the data between two time periods, we could test differences at various break-points.  In this',\n",
    "     'example analysis with current data we use 1988 as the cut-off.  1988 is the year the Intergovernmental Panel on Climat Change ',\n",
    "     'was established.')"
   ]
  },
  {
   "cell_type": "code",
   "execution_count": 314,
   "metadata": {},
   "outputs": [
    {
     "name": "stdout",
     "output_type": "stream",
     "text": [
      "1398\n"
     ]
    }
   ],
   "source": [
    "# hurricanes aggregation, groupby date, unique IDs and summary stats\n",
    "\n",
    "atlantic = atlantic[atlantic.Status == ' HU']\n",
    "atlantic = atlantic.astype({'Date': str})\n",
    "\n",
    "pacific = pacific[pacific.Status == ' HU']\n",
    "pacific = pacific.astype({'Date': str})\n",
    "\n",
    "hurricanes = pd.concat([atlantic, pacific])\n",
    "hurricanes = hurricanes.groupby([hurricanes.Date.str[:4]])"
   ]
  },
  {
   "cell_type": "code",
   "execution_count": 318,
   "metadata": {},
   "outputs": [
    {
     "name": "stdout",
     "output_type": "stream",
     "text": [
      "\tFocus is on storms with hurricane status.  We have 1398 recorded hurricanes since 1851.  891 over the Atlantic since 1851 and 507 over the Pacific since 1949\n"
     ]
    }
   ],
   "source": [
    "print('\\tFocus is on storms with hurricane status.  We have {} recorded hurricanes since 1851.  {} over the Atlantic since the start of data collection and {} over the Pacific since 1949.'.format(\n",
    "         hurricanes['ID'].nunique().sum(), \n",
    "         atlantic.groupby([atlantic.Date.str[:4]])['ID'].nunique().sum(),\n",
    "         pacific.groupby([pacific.Date.str[:4]])['ID'].nunique().sum()))"
   ]
  },
  {
   "cell_type": "code",
   "execution_count": 337,
   "metadata": {},
   "outputs": [
    {
     "data": {
      "image/png": "[encoded data removed]",
      "text/plain": [
       "<Figure size 1296x360 with 1 Axes>"
      ]
     },
     "metadata": {
      "needs_background": "light"
     },
     "output_type": "display_data"
    }
   ],
   "source": [
    "# plot frequency by year \n",
    "\n",
    "# total\n",
    "plt.figure(figsize=(18,5))\n",
    "ax = plt.subplot() \n",
    "ax.xaxis.set_major_locator(plt.MaxNLocator(20))\n",
    "ax.set_facecolor('#89cff0')\n",
    "\n",
    "x_values = list(hurricanes.groups.keys())\n",
    "y_values = hurricanes['ID'].nunique().tolist()\n",
    "\n",
    "plt.scatter(x_values, y_values, marker='o', alpha=1, s=80, c='blue', edgecolors='blue')\n",
    "plt.xlabel('Date')\n",
    "plt.ylabel('Count')\n",
    "\n",
    "plt.title('Hurricane frequency by year')\n",
    "plt.show()"
   ]
  },
  {
   "cell_type": "code",
   "execution_count": 338,
   "metadata": {},
   "outputs": [
    {
     "name": "stdout",
     "output_type": "stream",
     "text": [
      "7.0814814814814815 15.785714285714286\n",
      "-3.267113807741727 0.0010864999299279548\n",
      "Comparing the means of the available data we find a zscore of -10.053289885844165 at a very statistically significant power of 8.885062420078363e-24 Since Pacific data begins in 1949, we should isolate the Atlantic data to isolate for potential confounding data from Pacific's inclusion\n"
     ]
    }
   ],
   "source": [
    "# Atlantic + Pacific z-test for n0\n",
    "hurricanes_frame = hurricanes['ID'].nunique().reset_index()\n",
    "\n",
    "# 1851-1987\n",
    "hurricanes_period_one = hurricanes_frame[(hurricanes_frame.Date >= '1851') & (hurricanes_frame.Date <= '1987')]\n",
    "# 1988 - 2015\n",
    "hurricanes_period_two = hurricanes_frame[(hurricanes_frame.Date >= '1988') & (hurricanes_frame.Date <= '2015')]\n",
    "\n",
    "print(hurricanes_period_one.ID.mean(), hurricanes_period_two.ID.mean())\n",
    "\n",
    "ztest_all, pval1_all = sm.weightstats.ztest(hurricanes_period_one['ID'], hurricanes_period_two['ID'])\n",
    "\n",
    "print('Comparing the means of the available data we find a zscore of {} at a very statistically significant power of {}'.format(ztest_all, pval1_all),\n",
    "     'Since Pacific data begins in 1949, we should isolate the Atlantic data to isolate for potential confounding data from Pacific\\'s inclusion')"
   ]
  },
  {
   "cell_type": "code",
   "execution_count": 297,
   "metadata": {},
   "outputs": [
    {
     "name": "stdout",
     "output_type": "stream",
     "text": [
      "5.185185185185185 6.821428571428571\n",
      "-3.267113807741727 0.0010864999299279548\n"
     ]
    }
   ],
   "source": [
    "# Atlantic only - control for Pacific inclusion\n",
    "\n",
    "atlantic_only = atlantic.groupby([atlantic.Date.str[:4]])\n",
    "atlantic_frame = atlantic_only['ID'].nunique().reset_index()\n",
    "\n",
    "# 1851-1987\n",
    "atlantic_period_one = atlantic_frame[(atlantic_frame.Date >= '1851') & (atlantic_frame.Date <= '1987')]\n",
    "# 1988 - 2015\n",
    "atlantic_period_two = atlantic_frame[(atlantic_frame.Date >= '1988') & (atlantic_frame.Date <= '2015')]\n",
    "\n",
    "print(atlantic_period_one.ID.mean(), atlantic_period_two.ID.mean())\n",
    "\n",
    "ztest_atlantic, pval1_atlantic = sm.weightstats.ztest(atlantic_period_one.ID, atlantic_period_two.ID)\n",
    "print(ztest, pval1)"
   ]
  },
  {
   "cell_type": "code",
   "execution_count": null,
   "metadata": {},
   "outputs": [],
   "source": [
    "# conclusion\n",
    "\n"
   ]
  }
 ],
 "metadata": {
  "kernelspec": {
   "display_name": "Python 3",
   "language": "python",
   "name": "python3"
  },
  "language_info": {
   "codemirror_mode": {
    "name": "ipython",
    "version": 3
   },
   "file_extension": ".py",
   "mimetype": "text/x-python",
   "name": "python",
   "nbconvert_exporter": "python",
   "pygments_lexer": "ipython3",
   "version": "3.6.8"
  }
 },
 "nbformat": 4,
 "nbformat_minor": 2
}
