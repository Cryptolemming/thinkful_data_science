{
 "cells": [
  {
   "cell_type": "code",
   "execution_count": 1,
   "metadata": {},
   "outputs": [],
   "source": [
    "import numpy as np \n",
    "import pandas as pd "
   ]
  },
  {
   "cell_type": "code",
   "execution_count": 2,
   "metadata": {},
   "outputs": [],
   "source": [
    "# import\n",
    "atlantic=pd.read_csv('./atlantic.csv', usecols=['ID', 'Date', 'Status', 'Latitude', 'Longitude', 'Maximum Wind'])\n",
    "pacific=pd.read_csv('./pacific.csv', usecols=['ID', 'Date', 'Status', 'Latitude', 'Longitude', 'Maximum Wind'])\n",
    "\n",
    "# types and trim\n",
    "atlantic = atlantic.astype({'Date': str})\n",
    "pacific = pacific.astype({'Date': str})\n",
    "atlantic['Latitude'] = atlantic.Latitude.str[:-1].astype(float)\n",
    "atlantic['Longitude'] = atlantic.Longitude.str[:-1].astype(float)\n",
    "pacific['Latitude'] = pacific.Latitude.str[:-1].astype(float)\n",
    "pacific['Longitude'] = pacific.Longitude.str[:-1].astype(float)"
   ]
  },
  {
   "cell_type": "code",
   "execution_count": 3,
   "metadata": {},
   "outputs": [
    {
     "name": "stdout",
     "output_type": "stream",
     "text": [
      "               Latitude  Longitude  Maximum Wind\n",
      "Date ID                                         \n",
      "1851 AL011851     28.84      97.91         60.71\n",
      "     AL021851     22.20      97.60         80.00\n",
      "     AL031851     12.00      60.00         50.00\n",
      "     AL041851     26.44      72.63         65.10\n",
      "     AL051851     32.50      73.50         50.00\n",
      "...                 ...        ...           ...\n",
      "2015 AL082015     31.87      61.12         36.92\n",
      "     AL092015     15.37      44.78         24.47\n",
      "     AL102015     17.90      41.69         31.76\n",
      "     AL112015     33.25      47.81         59.14\n",
      "     AL122015     32.99      63.96         53.00\n",
      "\n",
      "[1816 rows x 3 columns]\n",
      "               Latitude  Longitude  Maximum Wind\n",
      "Date ID                                         \n",
      "1949 EP011949     20.34     107.90         45.00\n",
      "     EP021949     19.34     114.10         45.00\n",
      "     EP031949     22.47     110.98         45.00\n",
      "     EP041949     22.32     110.40         75.00\n",
      "     EP051949     18.02     105.11         45.00\n",
      "...                 ...        ...           ...\n",
      "2015 EP182015     13.09     143.96         39.26\n",
      "     EP192015     15.16     137.05         74.45\n",
      "     EP202015     15.83     100.87         83.95\n",
      "     EP212015     17.58     116.08         28.48\n",
      "     EP222015     16.24     107.75         64.60\n",
      "\n",
      "[1050 rows x 3 columns]\n"
     ]
    }
   ],
   "source": [
    "# group by year and ID with means of Lat, Long and Max Wind\n",
    "atlantic_by_year_id = atlantic.groupby([atlantic.Date.str[:4], 'ID']).mean().round(2)\n",
    "pacific_by_year_id = pacific.groupby([pacific.Date.str[:4], 'ID']).mean().round(2)\n",
    "print(atlantic_by_year_id)\n",
    "print(pacific_by_year_id)"
   ]
  },
  {
   "cell_type": "code",
   "execution_count": 16,
   "metadata": {},
   "outputs": [
    {
     "name": "stdout",
     "output_type": "stream",
     "text": [
      "Date\n",
      "1851     6\n",
      "1852     5\n",
      "1853     8\n",
      "1854     5\n",
      "1855     5\n",
      "        ..\n",
      "2011    20\n",
      "2012    19\n",
      "2013    15\n",
      "2014     9\n",
      "2015    12\n",
      "Length: 165, dtype: int64 Date\n",
      "1949     6\n",
      "1950     7\n",
      "1951     9\n",
      "1952     7\n",
      "1953     4\n",
      "        ..\n",
      "2011    13\n",
      "2012    17\n",
      "2013    21\n",
      "2014    23\n",
      "2015    22\n",
      "Length: 67, dtype: int64\n"
     ]
    }
   ],
   "source": [
    "#frequencies by year\n",
    "atlantic_yearly_count = atlantic_by_year_id.groupby('Date').size()\n",
    "pacific_yearly_count = pacific_by_year_id.groupby('Date').size()\n",
    "print(atlantic_yearly_count, pacific_yearly_count)"
   ]
  },
  {
   "cell_type": "code",
   "execution_count": 17,
   "metadata": {},
   "outputs": [],
   "source": [
    "# plot frequencies"
   ]
  },
  {
   "cell_type": "code",
   "execution_count": 18,
   "metadata": {},
   "outputs": [],
   "source": [
    "# max wind differences over time"
   ]
  },
  {
   "cell_type": "code",
   "execution_count": 19,
   "metadata": {},
   "outputs": [],
   "source": [
    "# plot max wind differences"
   ]
  },
  {
   "cell_type": "code",
   "execution_count": 20,
   "metadata": {},
   "outputs": [],
   "source": [
    "# differences between pacific and atlantic over time"
   ]
  },
  {
   "cell_type": "code",
   "execution_count": 21,
   "metadata": {},
   "outputs": [],
   "source": [
    "# plot differences between pacific and atlantic over time"
   ]
  },
  {
   "cell_type": "code",
   "execution_count": 22,
   "metadata": {},
   "outputs": [],
   "source": [
    "# lat, lng onsets"
   ]
  },
  {
   "cell_type": "code",
   "execution_count": 23,
   "metadata": {},
   "outputs": [],
   "source": [
    "# plot lat, lng onsets "
   ]
  },
  {
   "cell_type": "code",
   "execution_count": null,
   "metadata": {},
   "outputs": [],
   "source": [
    "# lat, lng directional changes over time"
   ]
  }
 ],
 "metadata": {
  "kernelspec": {
   "display_name": "Python 3",
   "language": "python",
   "name": "python3"
  },
  "language_info": {
   "codemirror_mode": {
    "name": "ipython",
    "version": 3
   },
   "file_extension": ".py",
   "mimetype": "text/x-python",
   "name": "python",
   "nbconvert_exporter": "python",
   "pygments_lexer": "ipython3",
   "version": "3.6.8"
  }
 },
 "nbformat": 4,
 "nbformat_minor": 2
}
