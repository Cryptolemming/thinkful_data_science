{
 "cells": [
  {
   "cell_type": "code",
   "execution_count": 3,
   "metadata": {},
   "outputs": [],
   "source": [
    "import numpy as np \n",
    "import pandas as pd \n",
    "\n",
    "import os\n",
    "for dirname, _, filenames in os.walk('/kaggle/input'):\n",
    "    for filename in filenames:\n",
    "        print(os.path.join(dirname, filename))"
   ]
  },
  {
   "cell_type": "code",
   "execution_count": 7,
   "metadata": {},
   "outputs": [
    {
     "name": "stdout",
     "output_type": "stream",
     "text": [
      "             ID      Date Status Latitude Longitude  Maximum Wind\n",
      "0      AL011851  18510625     HU    28.0N     94.8W            80\n",
      "1      AL011851  18510625     HU    28.0N     95.4W            80\n",
      "2      AL011851  18510625     HU    28.0N     96.0W            80\n",
      "3      AL011851  18510625     HU    28.1N     96.5W            80\n",
      "4      AL011851  18510625     HU    28.2N     96.8W            80\n",
      "...         ...       ...    ...      ...       ...           ...\n",
      "49100  AL122015  20151112     EX    41.3N     50.4W            55\n",
      "49101  AL122015  20151112     EX    41.9N     49.9W            55\n",
      "49102  AL122015  20151113     EX    41.5N     49.2W            50\n",
      "49103  AL122015  20151113     EX    40.8N     47.5W            45\n",
      "49104  AL122015  20151113     EX    40.7N     45.4W            45\n",
      "\n",
      "[49105 rows x 6 columns]\n",
      "             ID      Date Status Latitude Longitude  Maximum Wind\n",
      "0      EP011949  19490611     TS    20.2N    106.3W            45\n",
      "1      EP011949  19490611     TS    20.2N    106.4W            45\n",
      "2      EP011949  19490611     TS    20.2N    106.7W            45\n",
      "3      EP011949  19490611     TS    20.3N    107.7W            45\n",
      "4      EP011949  19490612     TS    20.4N    108.6W            45\n",
      "...         ...       ...    ...      ...       ...           ...\n",
      "26132  EP222015  20151128     LO    21.7N    109.0W            35\n",
      "26133  EP222015  20151128     LO    22.4N    108.7W            30\n",
      "26134  EP222015  20151129     LO    23.1N    108.3W            30\n",
      "26135  EP222015  20151129     LO    23.5N    107.9W            25\n",
      "26136  EP222015  20151129     LO    24.2N    107.7W            20\n",
      "\n",
      "[26137 rows x 6 columns]\n"
     ]
    }
   ],
   "source": [
    "# import Atlantic and Pacific data\n",
    "atlantic=pd.read_csv('./atlantic.csv', usecols=['ID', 'Date', 'Status', 'Latitude', 'Longitude', 'Maximum Wind'])\n",
    "pacific=pd.read_csv('./pacific.csv', usecols=['ID', 'Date', 'Status', 'Latitude', 'Longitude', 'Maximum Wind'])\n",
    "atlantic = atlantic.astype({'Date': str})\n",
    "pacific = pacific.astype({'Date': str})\n",
    "print(atlantic)\n",
    "print(pacific)\n"
   ]
  },
  {
   "cell_type": "code",
   "execution_count": 8,
   "metadata": {},
   "outputs": [
    {
     "name": "stdout",
     "output_type": "stream",
     "text": [
      "Total Hurricane Count: 2864. Atlantic: 1814, Pacific: 1050\n"
     ]
    }
   ],
   "source": [
    "# frequencies\n",
    "atlantic_count = atlantic['ID'].nunique()\n",
    "pacific_count = pacific['ID'].nunique()\n",
    "total_count = atlantic_count + pacific_count\n",
    "print(\"Total Hurricane Count: {}. Atlantic: {}, Pacific: {}\".format(total_count, atlantic_count, pacific_count))"
   ]
  },
  {
   "cell_type": "code",
   "execution_count": 16,
   "metadata": {},
   "outputs": [
    {
     "name": "stdout",
     "output_type": "stream",
     "text": [
      "Date\n",
      "1851     98\n",
      "1852    134\n",
      "1853    100\n",
      "1854     60\n",
      "1855     35\n",
      "       ... \n",
      "2011    557\n",
      "2012    654\n",
      "2013    346\n",
      "2014    300\n",
      "2015    339\n",
      "Length: 165, dtype: int64 Date\n",
      "1949     82\n",
      "1950    117\n",
      "1951    131\n",
      "1952     95\n",
      "1953     52\n",
      "       ... \n",
      "2011    411\n",
      "2012    500\n",
      "2013    568\n",
      "2014    840\n",
      "2015    717\n",
      "Length: 67, dtype: int64 Date\n",
      "1851      98\n",
      "1852     134\n",
      "1853     100\n",
      "1854      60\n",
      "1855      35\n",
      "        ... \n",
      "2011     968\n",
      "2012    1154\n",
      "2013     914\n",
      "2014    1140\n",
      "2015    1056\n",
      "Length: 165, dtype: int64\n"
     ]
    }
   ],
   "source": [
    "# frequency by year (make unique by ID)\n",
    "atlantic_counts_by_year = atlantic.groupby(atlantic.Date.str[:4]).size()\n",
    "pacific_counts_by_year = pacific.groupby(pacific.Date.str[:4]).size()\n",
    "total_counts_by_year = pd.merge(atlantic_counts_by_year.to_frame(), pacific_counts_by_year.to_frame(), on='Date', how='outer').sum(axis=1).astype(int)\n",
    "print(atlantic_counts_by_year, pacific_counts_by_year, total_counts_by_year)"
   ]
  },
  {
   "cell_type": "code",
   "execution_count": 61,
   "metadata": {},
   "outputs": [
    {
     "name": "stdout",
     "output_type": "stream",
     "text": [
      "11.0 15.7 17.4 165\n"
     ]
    }
   ],
   "source": [
    "# mean frequencies (modify after unique by ID)\n",
    "mean_atlantic = (atlantic_count / atlantic_counts_by_year.count()).round(1)\n",
    "mean_pacific = (pacific_count / pacific_counts_by_year.count()).round(1)\n",
    "mean_total = (total_count / total_counts_by_year.count()).round(1)\n",
    "print(mean_atlantic, mean_pacific, mean_total, atlantic_counts_by_year.count())"
   ]
  },
  {
   "cell_type": "code",
   "execution_count": null,
   "metadata": {},
   "outputs": [],
   "source": []
  }
 ],
 "metadata": {
  "kernelspec": {
   "display_name": "Python 3",
   "language": "python",
   "name": "python3"
  },
  "language_info": {
   "codemirror_mode": {
    "name": "ipython",
    "version": 3
   },
   "file_extension": ".py",
   "mimetype": "text/x-python",
   "name": "python",
   "nbconvert_exporter": "python",
   "pygments_lexer": "ipython3",
   "version": "3.6.8"
  }
 },
 "nbformat": 4,
 "nbformat_minor": 2
}
