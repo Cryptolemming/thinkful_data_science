{
 "cells": [
  {
   "cell_type": "code",
   "execution_count": 15,
   "metadata": {},
   "outputs": [
    {
     "ename": "ModuleNotFoundError",
     "evalue": "No module named 'cartopy'",
     "output_type": "error",
     "traceback": [
      "\u001b[0;31m---------------------------------------------------------------------------\u001b[0m",
      "\u001b[0;31mModuleNotFoundError\u001b[0m                       Traceback (most recent call last)",
      "\u001b[0;32m<ipython-input-15-d09219b23559>\u001b[0m in \u001b[0;36m<module>\u001b[0;34m\u001b[0m\n\u001b[1;32m      3\u001b[0m \u001b[0;32mimport\u001b[0m \u001b[0mmath\u001b[0m\u001b[0;34m\u001b[0m\u001b[0;34m\u001b[0m\u001b[0m\n\u001b[1;32m      4\u001b[0m \u001b[0;32mfrom\u001b[0m \u001b[0mscipy\u001b[0m \u001b[0;32mimport\u001b[0m \u001b[0mstats\u001b[0m\u001b[0;34m\u001b[0m\u001b[0;34m\u001b[0m\u001b[0m\n\u001b[0;32m----> 5\u001b[0;31m \u001b[0;32mimport\u001b[0m \u001b[0mcartopy\u001b[0m\u001b[0;34m.\u001b[0m\u001b[0mcrs\u001b[0m \u001b[0;32mas\u001b[0m \u001b[0mccrs\u001b[0m\u001b[0;34m\u001b[0m\u001b[0;34m\u001b[0m\u001b[0m\n\u001b[0m\u001b[1;32m      6\u001b[0m \u001b[0;32mimport\u001b[0m \u001b[0mmatplotlib\u001b[0m\u001b[0;34m.\u001b[0m\u001b[0mpyplot\u001b[0m \u001b[0;32mas\u001b[0m \u001b[0mplt\u001b[0m\u001b[0;34m\u001b[0m\u001b[0;34m\u001b[0m\u001b[0m\n\u001b[1;32m      7\u001b[0m \u001b[0mget_ipython\u001b[0m\u001b[0;34m(\u001b[0m\u001b[0;34m)\u001b[0m\u001b[0;34m.\u001b[0m\u001b[0mrun_line_magic\u001b[0m\u001b[0;34m(\u001b[0m\u001b[0;34m'matplotlib'\u001b[0m\u001b[0;34m,\u001b[0m \u001b[0;34m'inline'\u001b[0m\u001b[0;34m)\u001b[0m\u001b[0;34m\u001b[0m\u001b[0;34m\u001b[0m\u001b[0m\n",
      "\u001b[0;31mModuleNotFoundError\u001b[0m: No module named 'cartopy'"
     ]
    }
   ],
   "source": [
    "import numpy as np \n",
    "import pandas as pd \n",
    "import math\n",
    "from scipy import stats\n",
    "import cartopy.crs as ccrs\n",
    "import matplotlib.pyplot as plt\n",
    "%matplotlib inline\n",
    "pd.set_option('display.max_rows', 500)"
   ]
  },
  {
   "cell_type": "code",
   "execution_count": 16,
   "metadata": {},
   "outputs": [],
   "source": [
    "# import\n",
    "atlantic=pd.read_csv('./atlantic.csv', usecols=['ID', 'Date', 'Latitude', 'Longitude', 'Maximum Wind'])\n",
    "pacific=pd.read_csv('./pacific.csv', usecols=['ID', 'Date', 'Latitude', 'Longitude', 'Maximum Wind'])"
   ]
  },
  {
   "cell_type": "code",
   "execution_count": 17,
   "metadata": {},
   "outputs": [],
   "source": [
    "# types and trim\n",
    "atlantic = atlantic.astype({'Date': str})\n",
    "pacific = pacific.astype({'Date': str})\n",
    "atlantic['Latitude'] = atlantic.Latitude.str[:-1].astype(float)\n",
    "atlantic['Longitude'] = atlantic.Longitude.str[:-1].astype(float)\n",
    "pacific['Latitude'] = pacific.Latitude.str[:-1].astype(float)\n",
    "pacific['Longitude'] = pacific.Longitude.str[:-1].astype(float)"
   ]
  },
  {
   "cell_type": "code",
   "execution_count": 18,
   "metadata": {},
   "outputs": [
    {
     "name": "stdout",
     "output_type": "stream",
     "text": [
      "               Latitude  Longitude  Maximum Wind\n",
      "Date ID                                         \n",
      "1851 AL011851     28.84      97.91         60.71\n",
      "     AL021851     22.20      97.60         80.00\n",
      "     AL031851     12.00      60.00         50.00\n",
      "     AL041851     26.44      72.63         65.10\n",
      "     AL051851     32.50      73.50         50.00\n",
      "...                 ...        ...           ...\n",
      "2015 AL082015     31.87      61.12         36.92\n",
      "     AL092015     15.37      44.78         24.47\n",
      "     AL102015     17.90      41.69         31.76\n",
      "     AL112015     33.25      47.81         59.14\n",
      "     AL122015     32.99      63.96         53.00\n",
      "\n",
      "[1816 rows x 3 columns]\n"
     ]
    }
   ],
   "source": [
    "# group by year and ID with means of Lat, Long and Max Wind for every unique ID\n",
    "atlantic = atlantic.groupby([atlantic.Date.str[:4], 'ID']).mean().round(2)\n",
    "pacific = pacific.groupby([pacific.Date.str[:4], 'ID']).mean().round(2)\n",
    "print(atlantic)\n",
    "#print(pacific)"
   ]
  },
  {
   "cell_type": "code",
   "execution_count": null,
   "metadata": {},
   "outputs": [],
   "source": [
    "# Initial summary stats\n",
    "\n",
    "atlantic_count = atlantic.groupby('ID').size().count()\n",
    "pacific_count = pacific.groupby('ID').size().count()\n",
    "total_count = atlantic_count + pacific_count\n",
    "combined = pd.concat([atlantic, pacific])\n",
    "combined_groupby = combined.groupby('Date').size()\n",
    "total_change = (combined_groupby.tail(5).sum() / combined_groupby.iloc[98:103].sum()).round(2)\n",
    "atlantic_groupby = atlantic.groupby('Date').size()\n",
    "atlantic_change = (atlantic_groupby.tail(5).sum() / atlantic_groupby.head(5).sum()).round(2)\n",
    "pacific_groupby = pacific.groupby('Date').size()\n",
    "pacific_change = (pacific_groupby.tail(5).sum() / pacific_groupby.head(5).sum()).round(2)\n",
    "\n",
    "print(atlantic_change, pacific_change, total_change)"
   ]
  },
  {
   "cell_type": "code",
   "execution_count": 19,
   "metadata": {},
   "outputs": [
    {
     "ename": "NameError",
     "evalue": "name 'plt' is not defined",
     "output_type": "error",
     "traceback": [
      "\u001b[0;31m---------------------------------------------------------------------------\u001b[0m",
      "\u001b[0;31mNameError\u001b[0m                                 Traceback (most recent call last)",
      "\u001b[0;32m<ipython-input-19-3a213d752f38>\u001b[0m in \u001b[0;36m<module>\u001b[0;34m\u001b[0m\n\u001b[1;32m      6\u001b[0m \u001b[0;34m\u001b[0m\u001b[0m\n\u001b[1;32m      7\u001b[0m \u001b[0;31m# plot configuration\u001b[0m\u001b[0;34m\u001b[0m\u001b[0;34m\u001b[0m\u001b[0;34m\u001b[0m\u001b[0m\n\u001b[0;32m----> 8\u001b[0;31m \u001b[0mplt\u001b[0m\u001b[0;34m.\u001b[0m\u001b[0mfigure\u001b[0m\u001b[0;34m(\u001b[0m\u001b[0mfigsize\u001b[0m\u001b[0;34m=\u001b[0m\u001b[0;34m(\u001b[0m\u001b[0;36m20\u001b[0m\u001b[0;34m,\u001b[0m\u001b[0;36m6\u001b[0m\u001b[0;34m)\u001b[0m\u001b[0;34m)\u001b[0m\u001b[0;34m\u001b[0m\u001b[0;34m\u001b[0m\u001b[0m\n\u001b[0m\u001b[1;32m      9\u001b[0m \u001b[0mplt\u001b[0m\u001b[0;34m.\u001b[0m\u001b[0mrcParams\u001b[0m\u001b[0;34m.\u001b[0m\u001b[0mupdate\u001b[0m\u001b[0;34m(\u001b[0m\u001b[0;34m{\u001b[0m\u001b[0;34m'font.size'\u001b[0m\u001b[0;34m:\u001b[0m \u001b[0;36m16\u001b[0m\u001b[0;34m}\u001b[0m\u001b[0;34m)\u001b[0m\u001b[0;34m\u001b[0m\u001b[0;34m\u001b[0m\u001b[0m\n\u001b[1;32m     10\u001b[0m \u001b[0;34m\u001b[0m\u001b[0m\n",
      "\u001b[0;31mNameError\u001b[0m: name 'plt' is not defined"
     ]
    }
   ],
   "source": [
    "# plot: Hurricane frequency of occurrence by year\n",
    "\n",
    "# values\n",
    "atlantic_counts_by_year = atlantic.groupby('Date').size().to_frame('Count').reset_index()\n",
    "pacific_counts_by_year = pacific.groupby('Date').size().to_frame('Count').reset_index()\n",
    "\n",
    "# plot configuration\n",
    "plt.figure(figsize=(20,6))\n",
    "plt.rcParams.update({'font.size': 16})\n",
    "\n",
    "# Atlantic\n",
    "ax = plt.subplot(1,2,1)\n",
    "ax.xaxis.set_major_locator(plt.MaxNLocator(10))\n",
    "ax.set_facecolor('#89cff0')\n",
    "ax.set_title('Atlantic')\n",
    "x_values = np.array(atlantic_counts_by_year['Date'].tolist()).astype(np.int)\n",
    "y_values = atlantic_counts_by_year['Count'].tolist()\n",
    "x_label = 'Date'\n",
    "y_label = 'Count'\n",
    "\n",
    "plt.scatter(x_values, y_values,marker='o', alpha=1, s=80, c='blue', edgecolors='blue')\n",
    "plt.xlabel(x_label)\n",
    "plt.ylabel(y_label)\n",
    "\n",
    "# regression line\n",
    "slope, intercept, r_value, p_value, std_err = stats.linregress(x_values,y_values)\n",
    "line = slope*x_values+intercept\n",
    "plt.plot(x_values,y_values,'o', x_values, line, linewidth=5)\n",
    "\n",
    "# Pacific\n",
    "ax = plt.subplot(1,2,2)\n",
    "ax.xaxis.set_major_locator(plt.MaxNLocator(10))\n",
    "ax.set_facecolor('#89cff0')\n",
    "ax.set_title('Pacific')\n",
    "x_values = np.array(pacific_counts_by_year['Date'].tolist()).astype(np.int)\n",
    "y_values = pacific_counts_by_year['Count'].tolist()\n",
    "x_label = 'Date'\n",
    "y_label = 'Count'\n",
    "\n",
    "plt.scatter(x_values, y_values,marker='o', alpha=1, s=80, c='blue', edgecolors='blue')\n",
    "plt.xlabel(x_label)\n",
    "plt.ylabel(y_label)\n",
    "\n",
    "# regression line\n",
    "slope, intercept, r_value, p_value, std_err = stats.linregress(x_values,y_values)\n",
    "line = slope*x_values+intercept\n",
    "plt.plot(x_values,y_values,'o', x_values, line,linewidth=5)\n",
    "\n",
    "plt.show()"
   ]
  },
  {
   "cell_type": "code",
   "execution_count": 20,
   "metadata": {},
   "outputs": [
    {
     "ename": "NameError",
     "evalue": "name 'plt' is not defined",
     "output_type": "error",
     "traceback": [
      "\u001b[0;31m---------------------------------------------------------------------------\u001b[0m",
      "\u001b[0;31mNameError\u001b[0m                                 Traceback (most recent call last)",
      "\u001b[0;32m<ipython-input-20-d083f9712fa0>\u001b[0m in \u001b[0;36m<module>\u001b[0;34m\u001b[0m\n\u001b[1;32m      6\u001b[0m \u001b[0;34m\u001b[0m\u001b[0m\n\u001b[1;32m      7\u001b[0m \u001b[0;31m# plot configuration\u001b[0m\u001b[0;34m\u001b[0m\u001b[0;34m\u001b[0m\u001b[0;34m\u001b[0m\u001b[0m\n\u001b[0;32m----> 8\u001b[0;31m \u001b[0mplt\u001b[0m\u001b[0;34m.\u001b[0m\u001b[0mfigure\u001b[0m\u001b[0;34m(\u001b[0m\u001b[0mfigsize\u001b[0m\u001b[0;34m=\u001b[0m\u001b[0;34m(\u001b[0m\u001b[0;36m20\u001b[0m\u001b[0;34m,\u001b[0m\u001b[0;36m6\u001b[0m\u001b[0;34m)\u001b[0m\u001b[0;34m)\u001b[0m\u001b[0;34m\u001b[0m\u001b[0;34m\u001b[0m\u001b[0m\n\u001b[0m\u001b[1;32m      9\u001b[0m \u001b[0mplt\u001b[0m\u001b[0;34m.\u001b[0m\u001b[0mrcParams\u001b[0m\u001b[0;34m.\u001b[0m\u001b[0mupdate\u001b[0m\u001b[0;34m(\u001b[0m\u001b[0;34m{\u001b[0m\u001b[0;34m'font.size'\u001b[0m\u001b[0;34m:\u001b[0m \u001b[0;36m16\u001b[0m\u001b[0;34m}\u001b[0m\u001b[0;34m)\u001b[0m\u001b[0;34m\u001b[0m\u001b[0;34m\u001b[0m\u001b[0m\n\u001b[1;32m     10\u001b[0m \u001b[0;34m\u001b[0m\u001b[0m\n",
      "\u001b[0;31mNameError\u001b[0m: name 'plt' is not defined"
     ]
    }
   ],
   "source": [
    "# plot:  Hurricane max wind by year\n",
    "\n",
    "# values\n",
    "atlantic_max_wind_by_year = atlantic.groupby('Date').mean().round(2).reset_index().drop([116])\n",
    "pacific_max_wind_by_year = pacific.groupby('Date').mean().round(2).reset_index()\n",
    "\n",
    "# plot configuration\n",
    "plt.figure(figsize=(20,6))\n",
    "plt.rcParams.update({'font.size': 16})\n",
    "\n",
    "# Atlantic\n",
    "ax = plt.subplot(1,2,1)\n",
    "ax.xaxis.set_major_locator(plt.MaxNLocator(10))\n",
    "ax.set_facecolor('#89cff0')\n",
    "ax.set_title('Atlantic')\n",
    "x_values = np.array(atlantic_max_wind_by_year['Date'].tolist()).astype(np.int)\n",
    "y_values = atlantic_max_wind_by_year['Maximum Wind'].tolist()\n",
    "x_label = 'Date'\n",
    "y_label = 'Max Wind(avg)'\n",
    "\n",
    "plt.scatter(x_values, y_values,marker='o', alpha=1, s=80, c='blue', edgecolors='blue')\n",
    "plt.xlabel(x_label)\n",
    "plt.ylabel(y_label)\n",
    "\n",
    "# regression line\n",
    "slope, intercept, r_value, p_value, std_err = stats.linregress(x_values,y_values)\n",
    "line = slope*x_values+intercept\n",
    "plt.plot(x_values,y_values,'o', x_values, line, linewidth=5)\n",
    "\n",
    "# Pacific\n",
    "ax = plt.subplot(1,2,2)\n",
    "ax.xaxis.set_major_locator(plt.MaxNLocator(10))\n",
    "ax.set_facecolor('#89cff0')\n",
    "ax.set_title('Pacific')\n",
    "x_values = np.array(pacific_max_wind_by_year['Date'].tolist()).astype(np.int)\n",
    "y_values = pacific_max_wind_by_year['Maximum Wind'].tolist()\n",
    "x_label = 'Date'\n",
    "y_label = 'Max Wind(avg)'\n",
    "\n",
    "plt.scatter(x_values, y_values,marker='o', alpha=1, s=80, c='blue', edgecolors='blue')\n",
    "plt.xlabel(x_label)\n",
    "plt.ylabel(y_label)\n",
    "\n",
    "# regression line\n",
    "slope, intercept, r_value, p_value, std_err = stats.linregress(x_values,y_values)\n",
    "line = slope*x_values+intercept\n",
    "plt.plot(x_values,y_values,'o', x_values, line,linewidth=5)\n",
    "\n",
    "plt.show()"
   ]
  },
  {
   "cell_type": "code",
   "execution_count": 21,
   "metadata": {},
   "outputs": [
    {
     "ename": "NameError",
     "evalue": "name 'plt' is not defined",
     "output_type": "error",
     "traceback": [
      "\u001b[0;31m---------------------------------------------------------------------------\u001b[0m",
      "\u001b[0;31mNameError\u001b[0m                                 Traceback (most recent call last)",
      "\u001b[0;32m<ipython-input-21-7eb99d69ef8b>\u001b[0m in \u001b[0;36m<module>\u001b[0;34m\u001b[0m\n\u001b[1;32m      6\u001b[0m \u001b[0;31m# plot configuration\u001b[0m\u001b[0;34m\u001b[0m\u001b[0;34m\u001b[0m\u001b[0;34m\u001b[0m\u001b[0m\n\u001b[1;32m      7\u001b[0m \u001b[0;31m# Atlantic\u001b[0m\u001b[0;34m\u001b[0m\u001b[0;34m\u001b[0m\u001b[0;34m\u001b[0m\u001b[0m\n\u001b[0;32m----> 8\u001b[0;31m \u001b[0max\u001b[0m \u001b[0;34m=\u001b[0m \u001b[0mplt\u001b[0m\u001b[0;34m.\u001b[0m\u001b[0maxes\u001b[0m\u001b[0;34m(\u001b[0m\u001b[0mprojection\u001b[0m\u001b[0;34m=\u001b[0m\u001b[0mccrs\u001b[0m\u001b[0;34m.\u001b[0m\u001b[0mPlateCarree\u001b[0m\u001b[0;34m(\u001b[0m\u001b[0;34m)\u001b[0m\u001b[0;34m)\u001b[0m\u001b[0;34m\u001b[0m\u001b[0;34m\u001b[0m\u001b[0m\n\u001b[0m\u001b[1;32m      9\u001b[0m \u001b[0max\u001b[0m\u001b[0;34m.\u001b[0m\u001b[0mstock_img\u001b[0m\u001b[0;34m(\u001b[0m\u001b[0;34m)\u001b[0m\u001b[0;34m\u001b[0m\u001b[0;34m\u001b[0m\u001b[0m\n\u001b[1;32m     10\u001b[0m \u001b[0;34m\u001b[0m\u001b[0m\n",
      "\u001b[0;31mNameError\u001b[0m: name 'plt' is not defined"
     ]
    }
   ],
   "source": [
    "# plot: Atlantic Hurricane location by year (Lat/Lng average)\n",
    "\n",
    "# values\n",
    "atlantic_location_avg = atlantic.groupby('Date')['Latitude', 'Longitude'].mean().round(2).reset_index()\n",
    "\n",
    "# plot configuration\n",
    "# Atlantic\n",
    "ax = plt.axes(projection=ccrs.PlateCarree())\n",
    "ax.stock_img()\n",
    "\n",
    "atlantic_lon = atlantic_location_avg['Longitude'].iloc[0]\n",
    "atlantic_lat = atlantic_location_avg['Latitude'].iloc[0]\n",
    "atlantic_lon2 = atlantic_location_avg['Longitude'].iloc[-1]\n",
    "atlantic_lat2 = atlantic_location_avg['Latitude'].iloc[-1]\n",
    "\n",
    "ax.set_extent([-atlantic_lon - 40, -atlantic_lon + 40, atlantic_lat + 30, atlantic_lat - 30])\n",
    "ax.set_title('Atlantic')\n",
    "\n",
    "plt.plot([-atlantic_lon, -atlantic_lon2], [atlantic_lat, atlantic_lat2],\n",
    "         color='red', linewidth=2, marker='o',\n",
    "         transform=ccrs.Geodetic(),\n",
    "         )\n",
    "\n",
    "plt.plot([-atlantic_lon, -atlantic_lon2], [atlantic_lat, atlantic_lat2],\n",
    "         color='gray', linestyle='--',\n",
    "         transform=ccrs.PlateCarree(),\n",
    "         )\n",
    "\n",
    "plt.text(-atlantic_lon + 35, atlantic_lat - 4, atlantic_location_avg['Date'].iloc[0],\n",
    "         horizontalalignment='right',\n",
    "         transform=ccrs.Geodetic(), fontsize=10)\n",
    "\n",
    "plt.text(-atlantic_lon2 - 34, atlantic_lat2 - 1, atlantic_location_avg['Date'].iloc[-1],\n",
    "         horizontalalignment='left', transform=ccrs.Geodetic(), \n",
    "         fontsize=10)\n",
    "\n",
    "plt.show()"
   ]
  },
  {
   "cell_type": "code",
   "execution_count": 22,
   "metadata": {},
   "outputs": [
    {
     "ename": "NameError",
     "evalue": "name 'plt' is not defined",
     "output_type": "error",
     "traceback": [
      "\u001b[0;31m---------------------------------------------------------------------------\u001b[0m",
      "\u001b[0;31mNameError\u001b[0m                                 Traceback (most recent call last)",
      "\u001b[0;32m<ipython-input-22-b21299eed75f>\u001b[0m in \u001b[0;36m<module>\u001b[0;34m\u001b[0m\n\u001b[1;32m      6\u001b[0m \u001b[0;31m# plot configuration\u001b[0m\u001b[0;34m\u001b[0m\u001b[0;34m\u001b[0m\u001b[0;34m\u001b[0m\u001b[0m\n\u001b[1;32m      7\u001b[0m \u001b[0;31m# Pacific\u001b[0m\u001b[0;34m\u001b[0m\u001b[0;34m\u001b[0m\u001b[0;34m\u001b[0m\u001b[0m\n\u001b[0;32m----> 8\u001b[0;31m \u001b[0max\u001b[0m \u001b[0;34m=\u001b[0m \u001b[0mplt\u001b[0m\u001b[0;34m.\u001b[0m\u001b[0maxes\u001b[0m\u001b[0;34m(\u001b[0m\u001b[0mprojection\u001b[0m\u001b[0;34m=\u001b[0m\u001b[0mccrs\u001b[0m\u001b[0;34m.\u001b[0m\u001b[0mPlateCarree\u001b[0m\u001b[0;34m(\u001b[0m\u001b[0;34m)\u001b[0m\u001b[0;34m)\u001b[0m\u001b[0;34m\u001b[0m\u001b[0;34m\u001b[0m\u001b[0m\n\u001b[0m\u001b[1;32m      9\u001b[0m \u001b[0max\u001b[0m\u001b[0;34m.\u001b[0m\u001b[0mstock_img\u001b[0m\u001b[0;34m(\u001b[0m\u001b[0;34m)\u001b[0m\u001b[0;34m\u001b[0m\u001b[0;34m\u001b[0m\u001b[0m\n\u001b[1;32m     10\u001b[0m \u001b[0;34m\u001b[0m\u001b[0m\n",
      "\u001b[0;31mNameError\u001b[0m: name 'plt' is not defined"
     ]
    }
   ],
   "source": [
    "# plot: Pacific Hurricane location by year (Lat/Lng average)\n",
    "\n",
    "# values\n",
    "pacific_location_avg = pacific.groupby('Date')['Latitude', 'Longitude'].mean().round(2).reset_index()\n",
    "\n",
    "# plot configuration\n",
    "# Pacific\n",
    "ax = plt.axes(projection=ccrs.PlateCarree())\n",
    "ax.stock_img()\n",
    "\n",
    "pacific_lon = pacific_location_avg['Longitude'].iloc[0]\n",
    "pacific_lat = pacific_location_avg['Latitude'].iloc[0]\n",
    "pacific_lon2 = pacific_location_avg['Longitude'].iloc[-1]\n",
    "pacific_lat2 = pacific_location_avg['Latitude'].iloc[-1]\n",
    "\n",
    "ax.set_extent([-pacific_lon - 40, -pacific_lon + 40, pacific_lat + 30, pacific_lat - 30])\n",
    "ax.set_title('Pacific')\n",
    "\n",
    "plt.plot([-pacific_lon, -pacific_lon2], [pacific_lat, pacific_lat2],\n",
    "         color='red', linewidth=2, marker='o',\n",
    "         transform=ccrs.Geodetic(),\n",
    "         )\n",
    "\n",
    "plt.plot([-pacific_lon, -pacific_lon2], [pacific_lat, pacific_lat2],\n",
    "         color='gray', linestyle='--',\n",
    "         transform=ccrs.PlateCarree(),\n",
    "         )\n",
    "\n",
    "plt.text(-pacific_lon + 10, pacific_lat - 5, pacific_location_avg['Date'].iloc[0],\n",
    "         horizontalalignment='right',\n",
    "         transform=ccrs.Geodetic(), fontsize=10)\n",
    "\n",
    "plt.text(-pacific_lon2 - 10, pacific_lat2 - 3, pacific_location_avg['Date'].iloc[-1],\n",
    "         horizontalalignment='left', transform=ccrs.Geodetic(), \n",
    "         fontsize=10)\n",
    "\n",
    "plt.show()"
   ]
  },
  {
   "cell_type": "code",
   "execution_count": 23,
   "metadata": {},
   "outputs": [
    {
     "ename": "NameError",
     "evalue": "name 'plt' is not defined",
     "output_type": "error",
     "traceback": [
      "\u001b[0;31m---------------------------------------------------------------------------\u001b[0m",
      "\u001b[0;31mNameError\u001b[0m                                 Traceback (most recent call last)",
      "\u001b[0;32m<ipython-input-23-ef16372c7e12>\u001b[0m in \u001b[0;36m<module>\u001b[0;34m\u001b[0m\n\u001b[1;32m     32\u001b[0m \u001b[0mcolors\u001b[0m \u001b[0;34m=\u001b[0m \u001b[0mtheta\u001b[0m\u001b[0;34m\u001b[0m\u001b[0;34m\u001b[0m\u001b[0m\n\u001b[1;32m     33\u001b[0m \u001b[0;34m\u001b[0m\u001b[0m\n\u001b[0;32m---> 34\u001b[0;31m \u001b[0mfig\u001b[0m \u001b[0;34m=\u001b[0m \u001b[0mplt\u001b[0m\u001b[0;34m.\u001b[0m\u001b[0mfigure\u001b[0m\u001b[0;34m(\u001b[0m\u001b[0;34m)\u001b[0m\u001b[0;34m\u001b[0m\u001b[0;34m\u001b[0m\u001b[0m\n\u001b[0m\u001b[1;32m     35\u001b[0m \u001b[0max\u001b[0m \u001b[0;34m=\u001b[0m \u001b[0mfig\u001b[0m\u001b[0;34m.\u001b[0m\u001b[0madd_subplot\u001b[0m\u001b[0;34m(\u001b[0m\u001b[0;36m111\u001b[0m\u001b[0;34m,\u001b[0m \u001b[0mprojection\u001b[0m\u001b[0;34m=\u001b[0m\u001b[0;34m'polar'\u001b[0m\u001b[0;34m)\u001b[0m\u001b[0;34m\u001b[0m\u001b[0;34m\u001b[0m\u001b[0m\n\u001b[1;32m     36\u001b[0m \u001b[0max\u001b[0m\u001b[0;34m.\u001b[0m\u001b[0mset_title\u001b[0m\u001b[0;34m(\u001b[0m\u001b[0;34m'Atlantic yearly bearing change of hurricane onset'\u001b[0m\u001b[0;34m,\u001b[0m \u001b[0my\u001b[0m\u001b[0;34m=\u001b[0m\u001b[0;36m1.2\u001b[0m\u001b[0;34m,\u001b[0m \u001b[0mfontsize\u001b[0m\u001b[0;34m=\u001b[0m\u001b[0;36m14\u001b[0m\u001b[0;34m)\u001b[0m\u001b[0;34m\u001b[0m\u001b[0;34m\u001b[0m\u001b[0m\n",
      "\u001b[0;31mNameError\u001b[0m: name 'plt' is not defined"
     ]
    }
   ],
   "source": [
    "# Average bearing of location change by year - https://www.movable-type.co.uk/scripts/latlong.html\n",
    "\n",
    "# Atlantic\n",
    "readings = list(zip(atlantic_location_avg['Latitude'], atlantic_location_avg['Longitude']))\n",
    "\n",
    "def bearings():\n",
    "    bearings = []\n",
    "    for idx, reading in enumerate(readings, start=1):\n",
    "        lng2 = reading[1]\n",
    "        lng1 = readings[idx-2][1]\n",
    "        lat2 = reading[0]\n",
    "        lat1 = readings[idx-2][0]\n",
    "        lngDiff = -(lng2 - lng1)\n",
    "        y = math.sin(lngDiff) * math.cos(lat2)\n",
    "        x = (math.cos(lat1) * math.sin(lat2)) - (math.sin(lat1) * math.cos(lat2) * math.cos(lngDiff))\n",
    "        brng = round(math.degrees(math.atan2(y, x)), 2)\n",
    "        n_brng = round((brng + 360) % 360, 2)\n",
    "        bearings.append(n_brng)\n",
    "        \n",
    "    return bearings\n",
    "        \n",
    "#avg_location_differences()\n",
    "bearings = bearings()\n",
    "\n",
    "# plot: bearing changes\n",
    "\n",
    "# Compute areas and colors\n",
    "N = 150\n",
    "r = 2 * np.random.rand(N)\n",
    "theta = 2 * np.pi * np.random.rand(N)\n",
    "area = 200 * r**2\n",
    "colors = theta\n",
    "\n",
    "fig = plt.figure()\n",
    "ax = fig.add_subplot(111, projection='polar')\n",
    "ax.set_title('Atlantic yearly bearing change of hurricane onset', y=1.2, fontsize=14)\n",
    "c = ax.scatter(bearings, bearings,s=80, cmap='hsv', alpha=0.75)\n"
   ]
  },
  {
   "cell_type": "code",
   "execution_count": 24,
   "metadata": {},
   "outputs": [
    {
     "ename": "NameError",
     "evalue": "name 'plt' is not defined",
     "output_type": "error",
     "traceback": [
      "\u001b[0;31m---------------------------------------------------------------------------\u001b[0m",
      "\u001b[0;31mNameError\u001b[0m                                 Traceback (most recent call last)",
      "\u001b[0;32m<ipython-input-24-959131591a9a>\u001b[0m in \u001b[0;36m<module>\u001b[0;34m\u001b[0m\n\u001b[1;32m     30\u001b[0m \u001b[0mcolors\u001b[0m \u001b[0;34m=\u001b[0m \u001b[0mtheta\u001b[0m\u001b[0;34m\u001b[0m\u001b[0;34m\u001b[0m\u001b[0m\n\u001b[1;32m     31\u001b[0m \u001b[0;34m\u001b[0m\u001b[0m\n\u001b[0;32m---> 32\u001b[0;31m \u001b[0mfig\u001b[0m \u001b[0;34m=\u001b[0m \u001b[0mplt\u001b[0m\u001b[0;34m.\u001b[0m\u001b[0mfigure\u001b[0m\u001b[0;34m(\u001b[0m\u001b[0;34m)\u001b[0m\u001b[0;34m\u001b[0m\u001b[0;34m\u001b[0m\u001b[0m\n\u001b[0m\u001b[1;32m     33\u001b[0m \u001b[0max\u001b[0m \u001b[0;34m=\u001b[0m \u001b[0mfig\u001b[0m\u001b[0;34m.\u001b[0m\u001b[0madd_subplot\u001b[0m\u001b[0;34m(\u001b[0m\u001b[0;36m111\u001b[0m\u001b[0;34m,\u001b[0m \u001b[0mprojection\u001b[0m\u001b[0;34m=\u001b[0m\u001b[0;34m'polar'\u001b[0m\u001b[0;34m)\u001b[0m\u001b[0;34m\u001b[0m\u001b[0;34m\u001b[0m\u001b[0m\n\u001b[1;32m     34\u001b[0m \u001b[0max\u001b[0m\u001b[0;34m.\u001b[0m\u001b[0mset_title\u001b[0m\u001b[0;34m(\u001b[0m\u001b[0;34m'Pacific yearly bearing change of hurricane onset'\u001b[0m\u001b[0;34m,\u001b[0m \u001b[0my\u001b[0m\u001b[0;34m=\u001b[0m\u001b[0;36m1.2\u001b[0m\u001b[0;34m,\u001b[0m \u001b[0mfontsize\u001b[0m\u001b[0;34m=\u001b[0m\u001b[0;36m14\u001b[0m\u001b[0;34m)\u001b[0m\u001b[0;34m\u001b[0m\u001b[0;34m\u001b[0m\u001b[0m\n",
      "\u001b[0;31mNameError\u001b[0m: name 'plt' is not defined"
     ]
    }
   ],
   "source": [
    "# Pacific\n",
    "readings = list(zip(pacific_location_avg['Latitude'], pacific_location_avg['Longitude']))\n",
    "\n",
    "def bearings():\n",
    "    bearings = []\n",
    "    for idx, reading in enumerate(readings, start=1):\n",
    "        lng2 = reading[1]\n",
    "        lng1 = readings[idx-2][1]\n",
    "        lat2 = reading[0]\n",
    "        lat1 = readings[idx-2][0]\n",
    "        lngDiff = -(lng2 - lng1)\n",
    "        y = math.sin(lngDiff) * math.cos(lat2)\n",
    "        x = (math.cos(lat1) * math.sin(lat2)) - (math.sin(lat1) * math.cos(lat2) * math.cos(lngDiff))\n",
    "        brng = round(math.degrees(math.atan2(y, x)), 2)\n",
    "        n_brng = round((brng + 360) % 360, 2)\n",
    "        bearings.append(n_brng)\n",
    "        \n",
    "    return bearings\n",
    "        \n",
    "#avg_location_differences()\n",
    "bearings = bearings()\n",
    "\n",
    "# plot: bearing changes\n",
    "\n",
    "# Compute areas and colors\n",
    "N = 150\n",
    "r = 2 * np.random.rand(N)\n",
    "theta = 2 * np.pi * np.random.rand(N)\n",
    "area = 200 * r**2\n",
    "colors = theta\n",
    "\n",
    "fig = plt.figure()\n",
    "ax = fig.add_subplot(111, projection='polar')\n",
    "ax.set_title('Pacific yearly bearing change of hurricane onset', y=1.2, fontsize=14)\n",
    "c = ax.scatter(bearings, bearings,s=80, cmap='hsv', alpha=0.75)"
   ]
  },
  {
   "cell_type": "code",
   "execution_count": 25,
   "metadata": {},
   "outputs": [
    {
     "ename": "NameError",
     "evalue": "name 'plt' is not defined",
     "output_type": "error",
     "traceback": [
      "\u001b[0;31m---------------------------------------------------------------------------\u001b[0m",
      "\u001b[0;31mNameError\u001b[0m                                 Traceback (most recent call last)",
      "\u001b[0;32m<ipython-input-25-51bf77aaafc6>\u001b[0m in \u001b[0;36m<module>\u001b[0;34m\u001b[0m\n\u001b[1;32m     26\u001b[0m \u001b[0;34m\u001b[0m\u001b[0m\n\u001b[1;32m     27\u001b[0m \u001b[0;31m# plot configuration\u001b[0m\u001b[0;34m\u001b[0m\u001b[0;34m\u001b[0m\u001b[0;34m\u001b[0m\u001b[0m\n\u001b[0;32m---> 28\u001b[0;31m \u001b[0mplt\u001b[0m\u001b[0;34m.\u001b[0m\u001b[0mfigure\u001b[0m\u001b[0;34m(\u001b[0m\u001b[0mfigsize\u001b[0m\u001b[0;34m=\u001b[0m\u001b[0;34m(\u001b[0m\u001b[0;36m20\u001b[0m\u001b[0;34m,\u001b[0m\u001b[0;36m6\u001b[0m\u001b[0;34m)\u001b[0m\u001b[0;34m)\u001b[0m\u001b[0;34m\u001b[0m\u001b[0;34m\u001b[0m\u001b[0m\n\u001b[0m\u001b[1;32m     29\u001b[0m \u001b[0mplt\u001b[0m\u001b[0;34m.\u001b[0m\u001b[0mrcParams\u001b[0m\u001b[0;34m.\u001b[0m\u001b[0mupdate\u001b[0m\u001b[0;34m(\u001b[0m\u001b[0;34m{\u001b[0m\u001b[0;34m'font.size'\u001b[0m\u001b[0;34m:\u001b[0m \u001b[0;36m16\u001b[0m\u001b[0;34m}\u001b[0m\u001b[0;34m)\u001b[0m\u001b[0;34m\u001b[0m\u001b[0;34m\u001b[0m\u001b[0m\n\u001b[1;32m     30\u001b[0m \u001b[0;34m\u001b[0m\u001b[0m\n",
      "\u001b[0;31mNameError\u001b[0m: name 'plt' is not defined"
     ]
    }
   ],
   "source": [
    "# Summary statistics and plots\n",
    "\n",
    "# Total data\n",
    "total_data = pd.concat([atlantic, pacific])\n",
    "\n",
    "# Central tendency measures for max wind\n",
    "\n",
    "# values\n",
    "max_wind_data = total_data.groupby('Date')['Maximum Wind'].mean().reset_index()\n",
    "aggregate_max_wind_data = [x for x in max_wind_data['Maximum Wind'].tolist() if x >= 0]\n",
    "mean = np.mean(aggregate_max_wind_data) \n",
    "std = np.std(aggregate_max_wind_data)\n",
    "x_values = np.arange(-2.5,3.0,.5)\n",
    "\n",
    "def generate_values(data):\n",
    "    values = {el:0 for el in x_values}\n",
    "    for reading in data:\n",
    "        stds = (reading - mean) / std\n",
    "        stds = round(stds/.5) * .5\n",
    "        values[stds] += 1\n",
    "    return values\n",
    "\n",
    "y_values = generate_values(aggregate_max_wind_data)\n",
    "\n",
    "# plot: Central tendency measures of max wind \n",
    "\n",
    "# plot configuration\n",
    "plt.figure(figsize=(20,6))\n",
    "plt.rcParams.update({'font.size': 16})\n",
    "\n",
    "ax = plt.subplot(1,2,1)\n",
    "ax.set_title('Total Hurricane Maximum Wind Distribution', fontsize=18)\n",
    "x_label = 'standard deviation (x̄={}, σ={})'.format(mean.round(2), std.round(2))\n",
    "y_label = 'frequency'\n",
    "\n",
    "plt.xlabel(x_label)\n",
    "plt.ylabel(y_label)\n",
    "\n",
    "plt.bar(x_values, y_values.values(), edgecolor='red', alpha=.9)"
   ]
  },
  {
   "cell_type": "code",
   "execution_count": null,
   "metadata": {},
   "outputs": [],
   "source": []
  },
  {
   "cell_type": "code",
   "execution_count": null,
   "metadata": {},
   "outputs": [],
   "source": []
  },
  {
   "cell_type": "code",
   "execution_count": null,
   "metadata": {},
   "outputs": [],
   "source": []
  }
 ],
 "metadata": {
  "kernelspec": {
   "display_name": "Python 3",
   "language": "python",
   "name": "python3"
  },
  "language_info": {
   "codemirror_mode": {
    "name": "ipython",
    "version": 3
   },
   "file_extension": ".py",
   "mimetype": "text/x-python",
   "name": "python",
   "nbconvert_exporter": "python",
   "pygments_lexer": "ipython3",
   "version": "3.6.8"
  }
 },
 "nbformat": 4,
 "nbformat_minor": 2
}
